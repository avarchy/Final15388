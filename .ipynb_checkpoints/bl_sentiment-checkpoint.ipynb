{
 "cells": [
  {
   "cell_type": "code",
   "execution_count": 12,
   "metadata": {},
   "outputs": [],
   "source": [
    "from gensim.models import KeyedVectors\n",
    "from sklearn.feature_extraction.text import CountVectorizer\n",
    "from nltk.sentiment import util\n",
    "\n",
    "import nltk\n",
    "import numpy as np\n",
    "import math\n",
    "import io\n",
    "\n",
    "import pandas as pd\n",
    "import pickle\n",
    "%matplotlib inline\n",
    "import matplotlib\n",
    "import matplotlib.pyplot as plt"
   ]
  },
  {
   "cell_type": "code",
   "execution_count": 5,
   "metadata": {},
   "outputs": [],
   "source": [
    "# https://github.com/nguyenkh/AntSynDistinction\n",
    "WORDVEC_PATH = r'C:\\Users\\Barry Li\\Documents\\nlp\\project\\vec\\glove.6B.100d.w2v.txt'\n",
    "\n",
    "model = KeyedVectors.load_word2vec_format(WORDVEC_PATH, binary=False)"
   ]
  },
  {
   "cell_type": "code",
   "execution_count": 6,
   "metadata": {},
   "outputs": [
    {
     "data": {
      "text/plain": [
       "0.4005436797683082"
      ]
     },
     "execution_count": 6,
     "metadata": {},
     "output_type": "execute_result"
    }
   ],
   "source": [
    "model.most_similar(positive=['woman', 'king'], negative=['man'], topn=5)\n",
    "model.similarity('sincere', 'skeptical')"
   ]
  },
  {
   "cell_type": "code",
   "execution_count": 7,
   "metadata": {},
   "outputs": [],
   "source": [
    "test = 'Wow. This is definitely not the usual North Korea bluffing. Consider me cautiously optimistic.'\n",
    "\n",
    "def neg_tokenize(text):\n",
    "    tokens = util.mark_negation(nltk.word_tokenize(text))\n",
    "    return tokens"
   ]
  },
  {
   "cell_type": "code",
   "execution_count": 8,
   "metadata": {},
   "outputs": [
    {
     "data": {
      "text/plain": [
       "[('constructive', 0.6776089668273926),\n",
       " ('polite', 0.6698967218399048),\n",
       " ('passionate', 0.6607860326766968),\n",
       " ('pragmatic', 0.6521741151809692),\n",
       " ('forthright', 0.6513423919677734),\n",
       " ('thoughtful', 0.648894190788269),\n",
       " ('heartfelt', 0.6428238153457642),\n",
       " ('honest', 0.6281126141548157),\n",
       " ('candid', 0.6230484247207642),\n",
       " ('genuine', 0.6205928325653076)]"
      ]
     },
     "execution_count": 8,
     "metadata": {},
     "output_type": "execute_result"
    }
   ],
   "source": [
    "positive_keywords = ['sincere', 'respectful', 'real']\n",
    "model.most_similar(positive=positive_keywords, negative=['bad'])"
   ]
  },
  {
   "cell_type": "code",
   "execution_count": 9,
   "metadata": {
    "scrolled": false
   },
   "outputs": [
    {
     "data": {
      "text/plain": [
       "[('cynical', 0.7338444590568542),\n",
       " ('naive', 0.7176319360733032),\n",
       " ('arrogant', 0.7157966494560242),\n",
       " ('pathetic', 0.6909306645393372),\n",
       " ('hypocritical', 0.6809481382369995),\n",
       " ('astonished', 0.680789589881897),\n",
       " ('frankly', 0.6789352297782898),\n",
       " ('foolish', 0.6730614900588989),\n",
       " ('ludicrous', 0.666303813457489),\n",
       " ('disingenuous', 0.6662906408309937)]"
      ]
     },
     "execution_count": 9,
     "metadata": {},
     "output_type": "execute_result"
    }
   ],
   "source": [
    "negative_keywords = ['scared', 'anxious', 'cautious', 'stressful', 'alert', 'emotion', 'attitude']\n",
    "negative_keywords = ['untrustworthy', 'unbelievable', 'skeptical']\n",
    "model.most_similar(positive=negative_keywords)"
   ]
  },
  {
   "cell_type": "code",
   "execution_count": 10,
   "metadata": {},
   "outputs": [
    {
     "name": "stdout",
     "output_type": "stream",
     "text": [
      "pos 1635\n",
      "neg 1957\n"
     ]
    }
   ],
   "source": [
    "def read_stopwords(filename):\n",
    "    stopwords = []\n",
    "    with io.open(filename, 'r', encoding='utf-8') as f:\n",
    "        for line in f.readlines():\n",
    "            line = line.strip()\n",
    "            stopwords.append(line)\n",
    "    return frozenset(stopwords)\n",
    "        \n",
    "\n",
    "def generate_features(pos, neg, stopwords, topn=2000):\n",
    "    pos_200 = model.most_similar(positive=positive_keywords, negative=['bad'], topn=topn)\n",
    "    neg_200 = model.most_similar(positive=negative_keywords, negative=['good'], topn=topn)\n",
    "\n",
    "    uni_features = {}\n",
    "    for p in pos:\n",
    "        uni_features[p.lower()] = 1\n",
    "    for n in neg:\n",
    "        uni_features[n.lower()] = -1\n",
    "    for word, sim in pos_200:\n",
    "        word = word.lower()\n",
    "        score = uni_features.get(word, 0)\n",
    "        uni_features[word] = score + sim\n",
    "    for word, sim in neg_200:\n",
    "        word = word.lower()\n",
    "        score = uni_features.get(word, 0)\n",
    "        if score > sim:\n",
    "            uni_features[word] = score\n",
    "        else:\n",
    "            uni_features[word] = sim * -1\n",
    "\n",
    "    for stopword in stopwords:\n",
    "        uni_features.pop(stopword, None)\n",
    "    return uni_features\n",
    "\n",
    "stopwords = read_stopwords('stopwords.txt')\n",
    "uni_features = generate_features(positive_keywords, negative_keywords, stopwords)\n",
    "print('pos', len([v for k, v in uni_features.items() if v > 0]))\n",
    "print('neg', len([v for k, v in uni_features.items() if v < 0]))"
   ]
  },
  {
   "cell_type": "code",
   "execution_count": 13,
   "metadata": {},
   "outputs": [
    {
     "name": "stdout",
     "output_type": "stream",
     "text": [
      "[ 0.47395905  0.23442231  0.46131361 -0.03056636  0.10029979  0.17551532\n",
      "  0.          0.        ]\n"
     ]
    }
   ],
   "source": [
    "class SentAnalyzer():\n",
    "    \n",
    "    def __init__(self, features):\n",
    "        neg_features = self.duplicate_negation(features)\n",
    "        neg_features.update(features)\n",
    "        self.features = neg_features\n",
    "        idxs = {feat: i for i, feat in enumerate(self.features)}\n",
    "        self.idxs = idxs\n",
    "        self.vectorizer = CountVectorizer(vocabulary=idxs, tokenizer=neg_tokenize)\n",
    "        flipped_idxs = {i: self.features[feat] for feat, i in idxs.items()}\n",
    "        self.weights = np.array([flipped_idxs[i] for i in range(len(flipped_idxs))])\n",
    "    \n",
    "    def duplicate_negation(self, features):\n",
    "        neg_features = {\n",
    "            '{}_NEG'.format(feat): -1 * score for feat, score in features.items()\n",
    "        }\n",
    "        return neg_features\n",
    "    \n",
    "    def normalize(self, score, alpha=5):\n",
    "        \"\"\"Normalizing function as described by VADER Sentiment analyzer\"\"\"\n",
    "        return score / np.sqrt((score * score) + alpha)\n",
    "    \n",
    "    def polarize(self, passages):\n",
    "        \"\"\"Calculate the polarity of a passage.\n",
    "        \n",
    "        passage [str]: a list of strings representing tokens\n",
    "        \"\"\"\n",
    "        bow_vec = self.vectorizer.transform(passages)\n",
    "        return bow_vec.dot(self.weights)\n",
    "    \n",
    "    def predict(self, passage):\n",
    "        return self.normalize(self.polarize(passage))\n",
    "    \n",
    "SA = SentAnalyzer(uni_features)\n",
    "test2 = \"I'm still really skeptical myself. This is all just too good to be true. \\nWhat the fuck is Kim actually planning? How the fuck is North Korea going to unify with South Korea when NK has the most fucked up and brainwashed population in existence?\"\n",
    "test3 = \"I'm really optimistic. I hope this succeeds.\"\n",
    "test4 = \"Is it really happening? There is no obvious reason to believe him and this is all happening so fast? Could something amazing actually be happening here?\"\n",
    "test5 = \"Got the warning on my phone. I was just talking to friends on discord then heard the weird note from my phone that I hear for the first time. I checked it says missile. I was terrified checking every news source and calling friends. Then got another saying it passed over. That was terrifying.\"\n",
    "test6 = \"I've been living in northern Japan for some time and have never seen this kind of response to a missile launch before. The alerts, the news broadcasts, it was not taken lightly. Regardless of where the missile ended up, I think the message it sent is one that will have some lasting implications on how we perceive North Korea's aggression. It's only a matter of time before they end their war with Poseidon and make the mistake of targeting actual human lives. Stay safe out there, everyone.\"\n",
    "test7 = \"Their targeting systems and missiles are far from foolproof. A missile failure could have dropped this missile on an inhabited area in Japan. That would likely have provoked a full scale war. The level of irresponsibility here is just staggering.\"\n",
    "test8 = \"Man, that must be scary as shit. The other day I just arrived in Brussels and sat down in the Grand Place (a big open square, right in the center of Brussels) and then got a BBC alert 'Machete-wielding man attacks soldiers in central Brussels'. My heart skipped a beat. It was just a couple of streets away. I felt kinda sick. I did hear police sirens earlier but didn't think much of it. There were also soldiers and police all over the place.\"\n",
    "print(SA.predict([test, test2, test3, test4, test5, test6, test7, test8]))"
   ]
  },
  {
   "cell_type": "code",
   "execution_count": 14,
   "metadata": {},
   "outputs": [],
   "source": [
    "# Load pandas datafram of reddit data from pickle\n",
    "df = pickle.load( open( \"firsttry.p\", \"rb\" ))\n"
   ]
  },
  {
   "cell_type": "code",
   "execution_count": 15,
   "metadata": {},
   "outputs": [],
   "source": [
    "# Predict sentiment on each reddit comment# Predict \n",
    "df[\"sentiments\"] = SA.predict(df[\"body\"])"
   ]
  },
  {
   "cell_type": "code",
   "execution_count": 24,
   "metadata": {},
   "outputs": [
    {
     "ename": "ValueError",
     "evalue": "not enough values to unpack (expected 2, got 0)",
     "output_type": "error",
     "traceback": [
      "\u001b[1;31m---------------------------------------------------------------------------\u001b[0m",
      "\u001b[1;31mValueError\u001b[0m                                Traceback (most recent call last)",
      "\u001b[1;32m<ipython-input-24-93b2b7916e41>\u001b[0m in \u001b[0;36m<module>\u001b[1;34m()\u001b[0m\n\u001b[0;32m      3\u001b[0m \u001b[0mpl_df\u001b[0m\u001b[1;33m[\u001b[0m\u001b[1;34m\"created\"\u001b[0m\u001b[1;33m]\u001b[0m \u001b[1;33m=\u001b[0m \u001b[0mdf\u001b[0m\u001b[1;33m.\u001b[0m\u001b[0mcreated\u001b[0m\u001b[1;33m.\u001b[0m\u001b[0mastype\u001b[0m\u001b[1;33m(\u001b[0m\u001b[0mnp\u001b[0m\u001b[1;33m.\u001b[0m\u001b[0mint64\u001b[0m\u001b[1;33m)\u001b[0m\u001b[1;33m\u001b[0m\u001b[0m\n\u001b[0;32m      4\u001b[0m \u001b[1;33m\u001b[0m\u001b[0m\n\u001b[1;32m----> 5\u001b[1;33m \u001b[0mfig\u001b[0m\u001b[1;33m,\u001b[0m \u001b[0max\u001b[0m \u001b[1;33m=\u001b[0m \u001b[0mplt\u001b[0m\u001b[1;33m.\u001b[0m\u001b[0mplot\u001b[0m\u001b[1;33m(\u001b[0m\u001b[1;33m)\u001b[0m\u001b[1;33m\u001b[0m\u001b[0m\n\u001b[0m\u001b[0;32m      6\u001b[0m \u001b[0mpl_df\u001b[0m\u001b[1;33m.\u001b[0m\u001b[0mplot\u001b[0m\u001b[1;33m.\u001b[0m\u001b[0mhexbin\u001b[0m\u001b[1;33m(\u001b[0m\u001b[0mx\u001b[0m\u001b[1;33m=\u001b[0m\u001b[1;34m'created'\u001b[0m\u001b[1;33m,\u001b[0m \u001b[0my\u001b[0m\u001b[1;33m=\u001b[0m\u001b[1;34m'sentiments'\u001b[0m\u001b[1;33m,\u001b[0m \u001b[0max\u001b[0m\u001b[1;33m=\u001b[0m\u001b[0max\u001b[0m\u001b[1;33m,\u001b[0m \u001b[0mgridsize\u001b[0m\u001b[1;33m=\u001b[0m\u001b[1;36m25\u001b[0m\u001b[1;33m,\u001b[0m \u001b[0mreduce_C_function\u001b[0m\u001b[1;33m=\u001b[0m\u001b[0mnp\u001b[0m\u001b[1;33m.\u001b[0m\u001b[0mmax\u001b[0m\u001b[1;33m,\u001b[0m \u001b[0mbins\u001b[0m\u001b[1;33m=\u001b[0m\u001b[1;34m'log'\u001b[0m\u001b[1;33m)\u001b[0m\u001b[1;33m\u001b[0m\u001b[0m\n\u001b[0;32m      7\u001b[0m \u001b[0max\u001b[0m\u001b[1;33m.\u001b[0m\u001b[0mset_xticklabels\u001b[0m\u001b[1;33m(\u001b[0m\u001b[1;33m[\u001b[0m\u001b[0mdatetime\u001b[0m\u001b[1;33m.\u001b[0m\u001b[0mfromtimestamp\u001b[0m\u001b[1;33m(\u001b[0m\u001b[0mts\u001b[0m \u001b[1;33m/\u001b[0m \u001b[1;36m1e9\u001b[0m\u001b[1;33m)\u001b[0m\u001b[1;33m.\u001b[0m\u001b[0mstrftime\u001b[0m\u001b[1;33m(\u001b[0m\u001b[1;34m'%m/%d'\u001b[0m\u001b[1;33m)\u001b[0m \u001b[1;32mfor\u001b[0m \u001b[0mts\u001b[0m \u001b[1;32min\u001b[0m \u001b[0max\u001b[0m\u001b[1;33m.\u001b[0m\u001b[0mget_xticks\u001b[0m\u001b[1;33m(\u001b[0m\u001b[1;33m)\u001b[0m\u001b[1;33m]\u001b[0m\u001b[1;33m)\u001b[0m\u001b[1;33m\u001b[0m\u001b[0m\n",
      "\u001b[1;31mValueError\u001b[0m: not enough values to unpack (expected 2, got 0)"
     ]
    },
    {
     "data": {
      "image/png": "[encoded data removed]",
      "text/plain": [
       "<Figure size 432x288 with 1 Axes>"
      ]
     },
     "metadata": {},
     "output_type": "display_data"
    }
   ],
   "source": [
    "from datetime import datetime\n",
    "pl_df = df.copy()\n",
    "pl_df[\"created\"] = df.created.astype(np.int64)\n",
    "\n",
    "fig, ax = plt.subplots(figsize=(10,6))\n",
    "pl_df.plot.hexbin(x='created', y='sentiments', ax=ax, gridsize=25, reduce_C_function=np.max, bins='log')\n",
    "ax.set_xticklabels([datetime.fromtimestamp(ts / 1e9).strftime('%m/%d') for ts in ax.get_xticks()])\n",
    "plt.show()\n"
   ]
  },
  {
   "cell_type": "code",
   "execution_count": 229,
   "metadata": {},
   "outputs": [
    {
     "data": {
      "text/plain": [
       "[<matplotlib.lines.Line2D at 0x1a7a43c3c18>]"
      ]
     },
     "execution_count": 229,
     "metadata": {},
     "output_type": "execute_result"
    },
    {
     "data": {
      "image/png": "[encoded data removed]",
      "text/plain": [
       "<Figure size 432x288 with 1 Axes>"
      ]
     },
     "metadata": {},
     "output_type": "display_data"
    }
   ],
   "source": [
    "# Bucket on 7 days and plot a graph of average sentiment over these times\n",
    "df[\"created\"] = pd.to_datetime(df[\"created\"], utc=True)\n",
    "df = df.set_index(\"created\")\n",
    "df.index = df.index.floor('3D')\n",
    "df = df.reset_index()\n",
    "df_weekly_sentiments = df.groupby('created')['sentiments'].mean().reset_index()\n",
    "plt.plot_date(df_weekly_sentiments[\"created\"], df_weekly_sentiments[\"sentiments\"])"
   ]
  },
  {
   "cell_type": "code",
   "execution_count": null,
   "metadata": {},
   "outputs": [],
   "source": []
  }
 ],
 "metadata": {
  "kernelspec": {
   "display_name": "Python 3",
   "language": "python",
   "name": "python3"
  },
  "language_info": {
   "codemirror_mode": {
    "name": "ipython",
    "version": 3
   },
   "file_extension": ".py",
   "mimetype": "text/x-python",
   "name": "python",
   "nbconvert_exporter": "python",
   "pygments_lexer": "ipython3",
   "version": "3.6.4"
  }
 },
 "nbformat": 4,
 "nbformat_minor": 2
}
