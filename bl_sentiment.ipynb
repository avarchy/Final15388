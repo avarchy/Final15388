{
 "cells": [
  {
   "cell_type": "code",
   "execution_count": 3,
   "metadata": {},
   "outputs": [],
   "source": [
    "from gensim.models import KeyedVectors\n",
    "from sklearn.feature_extraction.stop_words import ENGLISH_STOP_WORDS\n",
    "from sklearn.feature_extraction.text import CountVectorizer\n",
    "from nltk.sentiment import util\n",
    "\n",
    "#import nltk\n",
    "import numpy as np\n",
    "import math"
   ]
  },
  {
   "cell_type": "code",
   "execution_count": 5,
   "metadata": {},
   "outputs": [],
   "source": [
    "WORDVEC_PATH = r'~/adithya/Adithya/Senior/15388/Final15388/wiki_en_dLCE_100d_minFreq_100.bin'\n",
    "\n",
    "model = KeyedVectors.load_word2vec_format(WORDVEC_PATH, binary=True)"
   ]
  },
  {
   "cell_type": "code",
   "execution_count": 13,
   "metadata": {},
   "outputs": [
    {
     "data": {
      "text/plain": [
       "0.4146328343605143"
      ]
     },
     "execution_count": 13,
     "metadata": {},
     "output_type": "execute_result"
    }
   ],
   "source": [
    "model.most_similar(positive=['woman', 'king'], negative=['man'], topn=5)\n",
    "model.similarity('sincere', 'skeptical')"
   ]
  },
  {
   "cell_type": "code",
   "execution_count": 18,
   "metadata": {},
   "outputs": [],
   "source": [
    "test = 'Wow. This is definitely not the usual North Korea bluffing. Consider me cautiously optimistic.'\n",
    "\n",
    "def neg_tokenize(text):\n",
    "    tokens = util.mark_negation(nltk.word_tokenize(text))\n",
    "    return tokens"
   ]
  },
  {
   "cell_type": "code",
   "execution_count": 14,
   "metadata": {},
   "outputs": [
    {
     "data": {
      "text/plain": [
       "[('righteous', 0.9616442322731018),\n",
       " ('virtuous', 0.9609020948410034),\n",
       " ('agreeable', 0.955571174621582),\n",
       " ('goodness', 0.953154444694519),\n",
       " ('decent', 0.9520127177238464),\n",
       " ('satisfactory', 0.947037935256958),\n",
       " ('neat', 0.9463551044464111),\n",
       " ('fit', 0.9453359842300415),\n",
       " ('fitting', 0.9427642822265625),\n",
       " ('suitable', 0.9426863193511963),\n",
       " ('meet', 0.9406923055648804),\n",
       " ('helpful', 0.9393703937530518),\n",
       " ('rightful', 0.9393401741981506),\n",
       " ('slap', 0.9388465285301208),\n",
       " ('due', 0.937271237373352),\n",
       " ('just', 0.936775267124176),\n",
       " ('grateful', 0.9353808760643005),\n",
       " ('equitable', 0.9352943897247314),\n",
       " ('beneficial', 0.9345125555992126),\n",
       " ('acceptable', 0.9344304203987122),\n",
       " ('enough', 0.9322444796562195),\n",
       " ('honest', 0.9312149286270142),\n",
       " ('chaste', 0.9299201369285583),\n",
       " ('good', 0.929736852645874),\n",
       " ('favourable', 0.9296479821205139),\n",
       " ('dear', 0.928422212600708),\n",
       " ('competent', 0.9279847145080566),\n",
       " ('precise', 0.9271347522735596),\n",
       " ('honorable', 0.9266073703765869),\n",
       " ('unadulterated', 0.9256390333175659),\n",
       " ('correct', 0.9252251386642456),\n",
       " ('exact', 0.9250403642654419),\n",
       " ('wanted', 0.9243810772895813),\n",
       " ('immaculate', 0.9239988923072815),\n",
       " ('self', 0.9236336350440979),\n",
       " ('inspirational', 0.92308509349823),\n",
       " ('adequate', 0.922880232334137),\n",
       " ('favorable', 0.92209792137146),\n",
       " ('tolerable', 0.9220553636550903),\n",
       " ('accurate', 0.922050952911377),\n",
       " ('useful', 0.921939492225647),\n",
       " ('pure', 0.9218149185180664),\n",
       " ('square', 0.9216124415397644),\n",
       " ('justified', 0.9212093353271484),\n",
       " ('skillful', 0.919352650642395),\n",
       " ('straightforward', 0.9191744327545166),\n",
       " ('faithful', 0.9184333682060242),\n",
       " ('sane', 0.9179608821868896),\n",
       " ('corrected', 0.917854368686676),\n",
       " ('pious', 0.9176093935966492),\n",
       " ('tidy', 0.9168610572814941),\n",
       " ('sacred', 0.9164429903030396),\n",
       " ('gorgeous', 0.9155148863792419),\n",
       " ('cracking', 0.9155133366584778),\n",
       " ('unequivocal', 0.9150216579437256),\n",
       " ('comely', 0.9130978584289551),\n",
       " ('right', 0.9130806922912598),\n",
       " ('sinless', 0.9130369424819946),\n",
       " ('soul', 0.911965012550354),\n",
       " ('so', 0.9104287624359131),\n",
       " ('innocuous', 0.9103111028671265),\n",
       " ('cleanly', 0.9101217985153198),\n",
       " ('ethical', 0.9097291827201843),\n",
       " ('religious', 0.9095823764801025),\n",
       " ('harmless', 0.9082106947898865),\n",
       " ('prerogative', 0.908155083656311),\n",
       " ('evens', 0.9070309400558472),\n",
       " ('cozy', 0.9061965346336365),\n",
       " ('nature', 0.905879020690918),\n",
       " ('dependable', 0.9055971503257751),\n",
       " ('fair', 0.9053654074668884),\n",
       " ('truthful', 0.904824435710907),\n",
       " ('beautiful', 0.9041613340377808),\n",
       " ('bully', 0.9031510353088379),\n",
       " ('adept', 0.9024712443351746),\n",
       " ('balanced', 0.9019486308097839),\n",
       " ('unquestionable', 0.9017330408096313),\n",
       " ('slapping', 0.9016210436820984),\n",
       " ('sort', 0.901617169380188),\n",
       " ('trim', 0.8995915055274963),\n",
       " ('fortunate', 0.89958655834198),\n",
       " ('unambiguous', 0.8993285894393921),\n",
       " ('definite', 0.8991444110870361),\n",
       " ('social', 0.898949384689331),\n",
       " ('coherent', 0.8986043334007263),\n",
       " ('inspired', 0.8982712030410767),\n",
       " ('lucky', 0.8977091312408447),\n",
       " ('as', 0.8977014422416687),\n",
       " ('day', 0.8969131708145142),\n",
       " ('true', 0.8964613676071167),\n",
       " ('homegrown', 0.8944214582443237),\n",
       " ('spotless', 0.8944098949432373),\n",
       " ('gratifying', 0.893613338470459),\n",
       " ('entire', 0.8925089240074158),\n",
       " ('lovely', 0.8915585279464722),\n",
       " ('passable', 0.8909304738044739),\n",
       " ('auspicious', 0.8904107809066772),\n",
       " ('satisfying', 0.890059232711792),\n",
       " ('societal', 0.8891738057136536),\n",
       " ('stunning', 0.8891395926475525),\n",
       " ('convenient', 0.888988196849823),\n",
       " ('appropriate', 0.8883374929428101),\n",
       " ('straight', 0.888271689414978),\n",
       " ('glad', 0.8879860043525696),\n",
       " ('blessed', 0.8871368765830994),\n",
       " ('blameless', 0.886807918548584),\n",
       " ('feat', 0.8865818977355957),\n",
       " ('even', 0.8863931894302368),\n",
       " ('well-known', 0.8862913846969604),\n",
       " ('exquisite', 0.8858240842819214),\n",
       " ('sit', 0.8852260708808899),\n",
       " ('logical', 0.8850646018981934),\n",
       " ('level-headed', 0.884722113609314),\n",
       " ('good-looking', 0.8844336271286011),\n",
       " ('spread', 0.8840785026550293),\n",
       " ('boon', 0.8839357495307922),\n",
       " ('stage', 0.8834906816482544),\n",
       " ('pristine', 0.8831874132156372),\n",
       " ('honourable', 0.8816550970077515),\n",
       " ('superb', 0.8816257119178772),\n",
       " ('snug', 0.8814563155174255),\n",
       " ('serviceable', 0.8807817697525024),\n",
       " ('pleasurable', 0.8793204426765442),\n",
       " ('becoming', 0.8787969946861267),\n",
       " ('option', 0.8784573078155518),\n",
       " ('desirable', 0.8784567713737488),\n",
       " ('correspondent', 0.878176748752594),\n",
       " ('well-off', 0.878153383731842),\n",
       " ('glorious', 0.8780401349067688),\n",
       " ('handsome', 0.8780145049095154),\n",
       " ('valuable', 0.8774648308753967),\n",
       " ('adapting', 0.8773068189620972),\n",
       " ('apartment', 0.8772979974746704),\n",
       " ('managing', 0.8766189217567444),\n",
       " ('sterling', 0.8762891292572021),\n",
       " ('quadratic', 0.8754709362983704),\n",
       " ('disinterested', 0.8745298981666565),\n",
       " ('illustrious', 0.8744621872901917),\n",
       " ('happy', 0.8744261264801025),\n",
       " ('this', 0.8744107484817505),\n",
       " ('while', 0.8743321895599365),\n",
       " ('title', 0.8742751479148865),\n",
       " ('perfect', 0.8741700649261475),\n",
       " ('lifetime', 0.8739785552024841),\n",
       " ('worthy', 0.8738067746162415),\n",
       " ('kosher', 0.8735365867614746),\n",
       " ('noted', 0.8734228610992432),\n",
       " ('angelic', 0.8730003237724304),\n",
       " ('will', 0.872920036315918),\n",
       " ('celebrated', 0.8715372681617737),\n",
       " ('conscientious', 0.8713574409484863),\n",
       " ('famed', 0.8712742924690247),\n",
       " ('sensible', 0.8709667921066284),\n",
       " ('equal', 0.8708803653717041),\n",
       " ('spice', 0.8707314729690552),\n",
       " ('plight', 0.8705296516418457),\n",
       " ('margin', 0.8699729442596436),\n",
       " ('character', 0.8698505759239197),\n",
       " ('divine', 0.8696756958961487),\n",
       " ('accomplish', 0.8690316677093506),\n",
       " ('disposition', 0.8690049052238464),\n",
       " ('healthy', 0.8686683177947998),\n",
       " ('reserve', 0.8682776689529419),\n",
       " ('kindly', 0.8681243658065796),\n",
       " ('downright', 0.8680585026741028),\n",
       " ('lucid', 0.8673480153083801),\n",
       " ('instrumental', 0.8671799302101135),\n",
       " ('elegant', 0.8667208552360535),\n",
       " ('realistic', 0.8662368655204773),\n",
       " ('fitted', 0.8661419749259949),\n",
       " ('seen', 0.8659906387329102),\n",
       " ('halcyon', 0.8659635782241821),\n",
       " ('goods', 0.8657656311988831),\n",
       " ('reasonable', 0.8656063675880432),\n",
       " ('kidney', 0.8650209903717041),\n",
       " ('pragmatic', 0.8648893237113953),\n",
       " ('body', 0.8646498322486877),\n",
       " ('lawful', 0.8645825386047363),\n",
       " ('feather', 0.8643859624862671),\n",
       " ('endemic', 0.8643115758895874),\n",
       " ('credible', 0.8642820715904236),\n",
       " ('feathers', 0.8642322421073914),\n",
       " ('devout', 0.8641260862350464),\n",
       " ('genre', 0.8636653423309326),\n",
       " ('household', 0.8634032011032104),\n",
       " ('picking', 0.8632696270942688),\n",
       " ('degree', 0.8632403612136841),\n",
       " ('pleased', 0.8625110983848572),\n",
       " ('refusal', 0.8612759113311768),\n",
       " ('manners', 0.860844075679779),\n",
       " ('tune', 0.8605467677116394),\n",
       " ('stratum', 0.8604939579963684),\n",
       " ('promising', 0.8602003455162048),\n",
       " ('that', 0.8601519465446472),\n",
       " ('familiar', 0.8600755333900452),\n",
       " ('uninterested', 0.8595766425132751),\n",
       " ('command', 0.859517514705658),\n",
       " ('mastery', 0.8589965105056763),\n",
       " ('performing', 0.8588331341743469),\n",
       " ('authentic', 0.8588154911994934)]"
      ]
     },
     "execution_count": 14,
     "metadata": {},
     "output_type": "execute_result"
    }
   ],
   "source": [
    "positive_keywords = ['hopeful', 'sincere', 'calm']\n",
    "model.most_similar(positive=positive_keywords, topn=200)"
   ]
  },
  {
   "cell_type": "code",
   "execution_count": 136,
   "metadata": {},
   "outputs": [
    {
     "data": {
      "text/plain": [
       "[('wary', 0.76902174949646),\n",
       " ('anxious', 0.7585034370422363),\n",
       " ('hesitant', 0.7413669228553772),\n",
       " ('timid', 0.7065054774284363),\n",
       " ('impatient', 0.7036861181259155),\n",
       " ('ambivalent', 0.6842986941337585),\n",
       " ('skeptical', 0.6806875467300415),\n",
       " ('apprehensive', 0.679796576499939),\n",
       " ('skittish', 0.6772457957267761),\n",
       " ('pessimistic', 0.6748073101043701)]"
      ]
     },
     "execution_count": 136,
     "metadata": {},
     "output_type": "execute_result"
    }
   ],
   "source": [
    "negative_keywords = ['scared', 'anxious', 'cautious', 'stressful', 'alert', 'emotion', 'attitude']\n",
    "negative_keywords = ['cautious', 'untrusting', 'fearful', 'attitude']\n",
    "model.most_similar(positive=negative_keywords)"
   ]
  },
  {
   "cell_type": "code",
   "execution_count": 145,
   "metadata": {},
   "outputs": [
    {
     "name": "stdout",
     "output_type": "stream",
     "text": [
      "pos 161\n",
      "neg 159\n"
     ]
    }
   ],
   "source": [
    "pos_200 = model.most_similar(positive=positive_keywords, topn=200)\n",
    "neg_200 = model.most_similar(positive=negative_keywords, topn=200)\n",
    "\n",
    "uni_features = {}\n",
    "for word, sim in pos_200:\n",
    "    score = uni_features.get(word, 0)\n",
    "    uni_features[word] = score + sim\n",
    "for word, sim in neg_200:\n",
    "    score = uni_features.get(word, 0)\n",
    "    if score > sim:\n",
    "        uni_features[word] = score\n",
    "    else:\n",
    "        uni_features[word] = -1 * sim\n",
    "\n",
    "for stopword in ENGLISH_STOP_WORDS:\n",
    "    uni_features.pop(stopword, None)\n",
    "print('pos', len([v for k, v in uni_features.items() if v > 0]))\n",
    "print('neg', len([v for k, v in uni_features.items() if v < 0]))"
   ]
  },
  {
   "cell_type": "code",
   "execution_count": 146,
   "metadata": {},
   "outputs": [
    {
     "name": "stdout",
     "output_type": "stream",
     "text": [
      "[ 0.79297072  1.82907706  2.68077487 -1.13360691  0.59415591 -0.01073837\n",
      "  0.         -0.00861579]\n"
     ]
    }
   ],
   "source": [
    "class SentAnalyzer():\n",
    "    \n",
    "    def __init__(self, features):\n",
    "        neg_features = self.duplicate_negation(features)\n",
    "        neg_features.update(features)\n",
    "        self.features = neg_features\n",
    "        idxs = {feat: i for i, feat in enumerate(self.features)}\n",
    "        self.idxs = idxs\n",
    "        self.vectorizer = CountVectorizer(vocabulary=idxs, tokenizer=neg_tokenize)\n",
    "        flipped_idxs = {i: self.features[feat] for feat, i in idxs.items()}\n",
    "        self.weights = np.array([flipped_idxs[i] for i in range(len(flipped_idxs))])\n",
    "    \n",
    "    def duplicate_negation(self, features):\n",
    "        neg_features = {\n",
    "            '{}_NEG'.format(feat): -1 * score for feat, score in features.items()\n",
    "        }\n",
    "        return neg_features\n",
    "    \n",
    "    def normalize(self, score, alpha=15):\n",
    "        \"\"\"Normalizing function as described by VADER Sentiment analyzer\"\"\"\n",
    "        return score / np.sqrt((score * score) + alpha)\n",
    "    \n",
    "    def polarize(self, passages):\n",
    "        \"\"\"Calculate the polarity of a passage.\n",
    "        \n",
    "        passage [str]: a list of strings representing tokens\n",
    "        \"\"\"\n",
    "        bow_vec = self.vectorizer.transform(passages)\n",
    "        return bow_vec.dot(self.weights)\n",
    "    \n",
    "    def predict(self, passage):\n",
    "        return self.polarize(passage)\n",
    "    \n",
    "SA = SentAnalyzer(uni_features)\n",
    "test2 = \"I'm still really skeptical myself. This is all just too good to be true. \\nWhat the fuck is Kim actually planning? How the fuck is North Korea going to unify with South Korea when NK has the most fucked up and brainwashed population in existence?\"\n",
    "test3 = \"I'm really optimistic. I hope this succeeds.\"\n",
    "test4 = \"Is it really happening? There is no obvious reason to believe him and this is all happening so fast? Could something amazing actually be happening here?\"\n",
    "test5 = \"Got the warning on my phone. I was just talking to friends on discord then heard the weird note from my phone that I hear for the first time. I checked it says missile. I was terrified checking every news source and calling friends. Then got another saying it passed over. That was terrifying.\"\n",
    "test6 = \"I've been living in northern Japan for some time and have never seen this kind of response to a missile launch before. The alerts, the news broadcasts, it was not taken lightly. Regardless of where the missile ended up, I think the message it sent is one that will have some lasting implications on how we perceive North Korea's aggression. It's only a matter of time before they end their war with Poseidon and make the mistake of targeting actual human lives. Stay safe out there, everyone.\"\n",
    "test7 = \"Their targeting systems and missiles are far from foolproof. A missile failure could have dropped this missile on an inhabited area in Japan. That would likely have provoked a full scale war. The level of irresponsibility here is just staggering.\"\n",
    "test8 = \"Man, that must be scary as shit. The other day I just arrived in Brussels and sat down in the Grand Place (a big open square, right in the center of Brussels) and then got a BBC alert 'Machete-wielding man attacks soldiers in central Brussels'. My heart skipped a beat. It was just a couple of streets away. I felt kinda sick. I did hear police sirens earlier but didn't think much of it. There were also soldiers and police all over the place.\"\n",
    "print(SA.predict([test, test2, test3, test4, test5, test6, test7, test8]))"
   ]
  },
  {
   "cell_type": "code",
   "execution_count": null,
   "metadata": {
    "collapsed": true
   },
   "outputs": [],
   "source": []
  },
  {
   "cell_type": "code",
   "execution_count": null,
   "metadata": {
    "collapsed": true
   },
   "outputs": [],
   "source": []
  },
  {
   "cell_type": "code",
   "execution_count": null,
   "metadata": {
    "collapsed": true
   },
   "outputs": [],
   "source": []
  }
 ],
 "metadata": {
  "kernelspec": {
   "display_name": "Python 3",
   "language": "python",
   "name": "python3"
  },
  "language_info": {
   "codemirror_mode": {
    "name": "ipython",
    "version": 3
   },
   "file_extension": ".py",
   "mimetype": "text/x-python",
   "name": "python",
   "nbconvert_exporter": "python",
   "pygments_lexer": "ipython3",
   "version": "3.6.3"
  }
 },
 "nbformat": 4,
 "nbformat_minor": 2
}
